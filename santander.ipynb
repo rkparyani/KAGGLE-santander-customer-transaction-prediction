{
 "cells": [
  {
   "cell_type": "markdown",
   "metadata": {},
   "source": [
    "#### LIBRARIES IMPORT AND PRELIMINARY DATA EXPLORATIONS"
   ]
  },
  {
   "cell_type": "code",
   "execution_count": 73,
   "metadata": {},
   "outputs": [],
   "source": [
    "# Importing Libraries\n",
    "\n",
    "import numpy as np\n",
    "import pandas as pd\n",
    "import matplotlib.pyplot as plt\n",
    "import seaborn as sns\n",
    "from sklearn.linear_model import LogisticRegression, ElasticNet, SGDClassifier\n",
    "from sklearn.model_selection import cross_val_score, StratifiedKFold\n",
    "from sklearn.metrics import confusion_matrix, accuracy_score, classification_report\n",
    "from sklearn.tree import DecisionTreeClassifier\n",
    "from sklearn.ensemble import RandomForestClassifier, BaggingClassifier, ExtraTreesClassifier, AdaBoostClassifier, GradientBoostingClassifier\n",
    "from sklearn.grid_search import GridSearchCV\n",
    "from xgboost import XGBClassifier\n",
    "from sklearn.neighbors import KNeighborsClassifier\n",
    "%matplotlib inline"
   ]
  },
  {
   "cell_type": "code",
   "execution_count": 2,
   "metadata": {},
   "outputs": [],
   "source": [
    "# Importing Dataset\n",
    "\n",
    "x_train_df = pd.read_csv(\"train.csv\")\n",
    "\n",
    "# Chose a Sample of dataset \n",
    "df = x_train_df.sample(frac=0.025,random_state=1)\n",
    "#df = pd.read_csv(\"train.csv\")"
   ]
  },
  {
   "cell_type": "code",
   "execution_count": 3,
   "metadata": {},
   "outputs": [],
   "source": [
    "# Importing test dataset\n",
    "x_test_df = pd.read_csv(\"test.csv\")\n",
    "\n",
    "df_test = x_test_df.sample(frac=0.025,random_state=1)\n",
    "#df_test = pd.read_csv(\"test.csv\")"
   ]
  },
  {
   "cell_type": "code",
   "execution_count": 4,
   "metadata": {},
   "outputs": [
    {
     "data": {
      "text/html": [
       "<div>\n",
       "<style scoped>\n",
       "    .dataframe tbody tr th:only-of-type {\n",
       "        vertical-align: middle;\n",
       "    }\n",
       "\n",
       "    .dataframe tbody tr th {\n",
       "        vertical-align: top;\n",
       "    }\n",
       "\n",
       "    .dataframe thead th {\n",
       "        text-align: right;\n",
       "    }\n",
       "</style>\n",
       "<table border=\"1\" class=\"dataframe\">\n",
       "  <thead>\n",
       "    <tr style=\"text-align: right;\">\n",
       "      <th></th>\n",
       "      <th>ID_code</th>\n",
       "      <th>var_0</th>\n",
       "      <th>var_1</th>\n",
       "      <th>var_2</th>\n",
       "      <th>var_3</th>\n",
       "      <th>var_4</th>\n",
       "      <th>var_5</th>\n",
       "      <th>var_6</th>\n",
       "      <th>var_7</th>\n",
       "      <th>var_8</th>\n",
       "      <th>...</th>\n",
       "      <th>var_190</th>\n",
       "      <th>var_191</th>\n",
       "      <th>var_192</th>\n",
       "      <th>var_193</th>\n",
       "      <th>var_194</th>\n",
       "      <th>var_195</th>\n",
       "      <th>var_196</th>\n",
       "      <th>var_197</th>\n",
       "      <th>var_198</th>\n",
       "      <th>var_199</th>\n",
       "    </tr>\n",
       "  </thead>\n",
       "  <tbody>\n",
       "    <tr>\n",
       "      <th>49673</th>\n",
       "      <td>test_49673</td>\n",
       "      <td>11.1044</td>\n",
       "      <td>-6.7099</td>\n",
       "      <td>17.8710</td>\n",
       "      <td>3.2243</td>\n",
       "      <td>8.8478</td>\n",
       "      <td>-13.3124</td>\n",
       "      <td>5.7892</td>\n",
       "      <td>12.9625</td>\n",
       "      <td>-0.6813</td>\n",
       "      <td>...</td>\n",
       "      <td>5.9420</td>\n",
       "      <td>5.6437</td>\n",
       "      <td>2.2066</td>\n",
       "      <td>6.2148</td>\n",
       "      <td>21.5757</td>\n",
       "      <td>-3.0771</td>\n",
       "      <td>-4.2946</td>\n",
       "      <td>9.0310</td>\n",
       "      <td>20.9245</td>\n",
       "      <td>3.1500</td>\n",
       "    </tr>\n",
       "    <tr>\n",
       "      <th>171551</th>\n",
       "      <td>test_171551</td>\n",
       "      <td>5.7274</td>\n",
       "      <td>-0.4187</td>\n",
       "      <td>12.6714</td>\n",
       "      <td>7.7062</td>\n",
       "      <td>9.8400</td>\n",
       "      <td>8.3206</td>\n",
       "      <td>5.9172</td>\n",
       "      <td>14.9554</td>\n",
       "      <td>-2.4336</td>\n",
       "      <td>...</td>\n",
       "      <td>2.3589</td>\n",
       "      <td>6.6190</td>\n",
       "      <td>4.6949</td>\n",
       "      <td>0.9724</td>\n",
       "      <td>15.1168</td>\n",
       "      <td>-1.5141</td>\n",
       "      <td>9.8740</td>\n",
       "      <td>8.4839</td>\n",
       "      <td>15.3571</td>\n",
       "      <td>-12.1836</td>\n",
       "    </tr>\n",
       "    <tr>\n",
       "      <th>5506</th>\n",
       "      <td>test_5506</td>\n",
       "      <td>12.5517</td>\n",
       "      <td>7.9984</td>\n",
       "      <td>11.1343</td>\n",
       "      <td>7.0043</td>\n",
       "      <td>10.8234</td>\n",
       "      <td>-9.9847</td>\n",
       "      <td>5.8742</td>\n",
       "      <td>19.9514</td>\n",
       "      <td>0.5893</td>\n",
       "      <td>...</td>\n",
       "      <td>4.9495</td>\n",
       "      <td>7.2834</td>\n",
       "      <td>-0.6708</td>\n",
       "      <td>7.4930</td>\n",
       "      <td>21.1419</td>\n",
       "      <td>0.5040</td>\n",
       "      <td>-1.0404</td>\n",
       "      <td>8.3305</td>\n",
       "      <td>15.0389</td>\n",
       "      <td>7.3967</td>\n",
       "    </tr>\n",
       "    <tr>\n",
       "      <th>38370</th>\n",
       "      <td>test_38370</td>\n",
       "      <td>8.7687</td>\n",
       "      <td>2.2315</td>\n",
       "      <td>8.0303</td>\n",
       "      <td>5.8999</td>\n",
       "      <td>9.4847</td>\n",
       "      <td>-1.6425</td>\n",
       "      <td>4.6997</td>\n",
       "      <td>19.7067</td>\n",
       "      <td>-2.2117</td>\n",
       "      <td>...</td>\n",
       "      <td>3.7571</td>\n",
       "      <td>7.7909</td>\n",
       "      <td>2.6351</td>\n",
       "      <td>2.5489</td>\n",
       "      <td>18.8010</td>\n",
       "      <td>0.8993</td>\n",
       "      <td>-1.7393</td>\n",
       "      <td>8.9744</td>\n",
       "      <td>13.6331</td>\n",
       "      <td>3.8630</td>\n",
       "    </tr>\n",
       "    <tr>\n",
       "      <th>36930</th>\n",
       "      <td>test_36930</td>\n",
       "      <td>12.8101</td>\n",
       "      <td>2.6991</td>\n",
       "      <td>8.3205</td>\n",
       "      <td>10.1344</td>\n",
       "      <td>11.7683</td>\n",
       "      <td>0.0638</td>\n",
       "      <td>4.4188</td>\n",
       "      <td>15.4821</td>\n",
       "      <td>2.0414</td>\n",
       "      <td>...</td>\n",
       "      <td>13.7312</td>\n",
       "      <td>9.6981</td>\n",
       "      <td>2.4056</td>\n",
       "      <td>4.3533</td>\n",
       "      <td>12.7338</td>\n",
       "      <td>-0.6347</td>\n",
       "      <td>1.1318</td>\n",
       "      <td>7.7132</td>\n",
       "      <td>9.6437</td>\n",
       "      <td>11.8016</td>\n",
       "    </tr>\n",
       "  </tbody>\n",
       "</table>\n",
       "<p>5 rows × 201 columns</p>\n",
       "</div>"
      ],
      "text/plain": [
       "            ID_code    var_0   var_1    var_2    var_3    var_4    var_5  \\\n",
       "49673    test_49673  11.1044 -6.7099  17.8710   3.2243   8.8478 -13.3124   \n",
       "171551  test_171551   5.7274 -0.4187  12.6714   7.7062   9.8400   8.3206   \n",
       "5506      test_5506  12.5517  7.9984  11.1343   7.0043  10.8234  -9.9847   \n",
       "38370    test_38370   8.7687  2.2315   8.0303   5.8999   9.4847  -1.6425   \n",
       "36930    test_36930  12.8101  2.6991   8.3205  10.1344  11.7683   0.0638   \n",
       "\n",
       "         var_6    var_7   var_8   ...     var_190  var_191  var_192  var_193  \\\n",
       "49673   5.7892  12.9625 -0.6813   ...      5.9420   5.6437   2.2066   6.2148   \n",
       "171551  5.9172  14.9554 -2.4336   ...      2.3589   6.6190   4.6949   0.9724   \n",
       "5506    5.8742  19.9514  0.5893   ...      4.9495   7.2834  -0.6708   7.4930   \n",
       "38370   4.6997  19.7067 -2.2117   ...      3.7571   7.7909   2.6351   2.5489   \n",
       "36930   4.4188  15.4821  2.0414   ...     13.7312   9.6981   2.4056   4.3533   \n",
       "\n",
       "        var_194  var_195  var_196  var_197  var_198  var_199  \n",
       "49673   21.5757  -3.0771  -4.2946   9.0310  20.9245   3.1500  \n",
       "171551  15.1168  -1.5141   9.8740   8.4839  15.3571 -12.1836  \n",
       "5506    21.1419   0.5040  -1.0404   8.3305  15.0389   7.3967  \n",
       "38370   18.8010   0.8993  -1.7393   8.9744  13.6331   3.8630  \n",
       "36930   12.7338  -0.6347   1.1318   7.7132   9.6437  11.8016  \n",
       "\n",
       "[5 rows x 201 columns]"
      ]
     },
     "execution_count": 4,
     "metadata": {},
     "output_type": "execute_result"
    }
   ],
   "source": [
    "df_test.head()"
   ]
  },
  {
   "cell_type": "code",
   "execution_count": 5,
   "metadata": {},
   "outputs": [
    {
     "data": {
      "text/html": [
       "<div>\n",
       "<style scoped>\n",
       "    .dataframe tbody tr th:only-of-type {\n",
       "        vertical-align: middle;\n",
       "    }\n",
       "\n",
       "    .dataframe tbody tr th {\n",
       "        vertical-align: top;\n",
       "    }\n",
       "\n",
       "    .dataframe thead th {\n",
       "        text-align: right;\n",
       "    }\n",
       "</style>\n",
       "<table border=\"1\" class=\"dataframe\">\n",
       "  <thead>\n",
       "    <tr style=\"text-align: right;\">\n",
       "      <th></th>\n",
       "      <th>ID_code</th>\n",
       "      <th>target</th>\n",
       "      <th>var_0</th>\n",
       "      <th>var_1</th>\n",
       "      <th>var_2</th>\n",
       "      <th>var_3</th>\n",
       "      <th>var_4</th>\n",
       "      <th>var_5</th>\n",
       "      <th>var_6</th>\n",
       "      <th>var_7</th>\n",
       "      <th>...</th>\n",
       "      <th>var_190</th>\n",
       "      <th>var_191</th>\n",
       "      <th>var_192</th>\n",
       "      <th>var_193</th>\n",
       "      <th>var_194</th>\n",
       "      <th>var_195</th>\n",
       "      <th>var_196</th>\n",
       "      <th>var_197</th>\n",
       "      <th>var_198</th>\n",
       "      <th>var_199</th>\n",
       "    </tr>\n",
       "  </thead>\n",
       "  <tbody>\n",
       "    <tr>\n",
       "      <th>49673</th>\n",
       "      <td>train_49673</td>\n",
       "      <td>0</td>\n",
       "      <td>11.5208</td>\n",
       "      <td>0.0345</td>\n",
       "      <td>13.6967</td>\n",
       "      <td>8.7980</td>\n",
       "      <td>11.4984</td>\n",
       "      <td>-14.4183</td>\n",
       "      <td>5.2356</td>\n",
       "      <td>14.6201</td>\n",
       "      <td>...</td>\n",
       "      <td>-2.5931</td>\n",
       "      <td>6.8155</td>\n",
       "      <td>4.0026</td>\n",
       "      <td>5.7603</td>\n",
       "      <td>16.7222</td>\n",
       "      <td>0.5767</td>\n",
       "      <td>-3.1717</td>\n",
       "      <td>8.9964</td>\n",
       "      <td>19.5975</td>\n",
       "      <td>-16.0881</td>\n",
       "    </tr>\n",
       "    <tr>\n",
       "      <th>171551</th>\n",
       "      <td>train_171551</td>\n",
       "      <td>0</td>\n",
       "      <td>10.6327</td>\n",
       "      <td>-3.0837</td>\n",
       "      <td>7.3320</td>\n",
       "      <td>8.9173</td>\n",
       "      <td>9.8485</td>\n",
       "      <td>-10.0986</td>\n",
       "      <td>5.4894</td>\n",
       "      <td>11.2602</td>\n",
       "      <td>...</td>\n",
       "      <td>7.2326</td>\n",
       "      <td>5.0710</td>\n",
       "      <td>3.4117</td>\n",
       "      <td>4.1256</td>\n",
       "      <td>19.3753</td>\n",
       "      <td>-2.2722</td>\n",
       "      <td>-2.5486</td>\n",
       "      <td>6.3672</td>\n",
       "      <td>16.0392</td>\n",
       "      <td>-0.8213</td>\n",
       "    </tr>\n",
       "    <tr>\n",
       "      <th>5506</th>\n",
       "      <td>train_5506</td>\n",
       "      <td>0</td>\n",
       "      <td>13.4346</td>\n",
       "      <td>-4.7138</td>\n",
       "      <td>10.2488</td>\n",
       "      <td>7.2394</td>\n",
       "      <td>11.5154</td>\n",
       "      <td>-10.7816</td>\n",
       "      <td>4.4755</td>\n",
       "      <td>16.3473</td>\n",
       "      <td>...</td>\n",
       "      <td>1.5606</td>\n",
       "      <td>14.4879</td>\n",
       "      <td>1.8716</td>\n",
       "      <td>6.0999</td>\n",
       "      <td>21.1498</td>\n",
       "      <td>3.1641</td>\n",
       "      <td>-3.9446</td>\n",
       "      <td>9.4770</td>\n",
       "      <td>17.1406</td>\n",
       "      <td>-18.9208</td>\n",
       "    </tr>\n",
       "    <tr>\n",
       "      <th>38370</th>\n",
       "      <td>train_38370</td>\n",
       "      <td>0</td>\n",
       "      <td>4.8650</td>\n",
       "      <td>4.3326</td>\n",
       "      <td>13.9920</td>\n",
       "      <td>6.9034</td>\n",
       "      <td>12.1384</td>\n",
       "      <td>-1.6310</td>\n",
       "      <td>5.2511</td>\n",
       "      <td>14.0651</td>\n",
       "      <td>...</td>\n",
       "      <td>-5.9529</td>\n",
       "      <td>5.7586</td>\n",
       "      <td>3.0283</td>\n",
       "      <td>-2.4441</td>\n",
       "      <td>16.7881</td>\n",
       "      <td>-0.2528</td>\n",
       "      <td>-5.1544</td>\n",
       "      <td>8.4277</td>\n",
       "      <td>12.8527</td>\n",
       "      <td>1.1520</td>\n",
       "    </tr>\n",
       "    <tr>\n",
       "      <th>36930</th>\n",
       "      <td>train_36930</td>\n",
       "      <td>0</td>\n",
       "      <td>9.8466</td>\n",
       "      <td>-2.0145</td>\n",
       "      <td>10.6657</td>\n",
       "      <td>4.9808</td>\n",
       "      <td>10.0866</td>\n",
       "      <td>-7.7280</td>\n",
       "      <td>4.6048</td>\n",
       "      <td>16.5240</td>\n",
       "      <td>...</td>\n",
       "      <td>-0.5729</td>\n",
       "      <td>9.0527</td>\n",
       "      <td>1.2550</td>\n",
       "      <td>-4.4527</td>\n",
       "      <td>16.0889</td>\n",
       "      <td>0.8156</td>\n",
       "      <td>4.3412</td>\n",
       "      <td>9.0945</td>\n",
       "      <td>13.4120</td>\n",
       "      <td>8.3931</td>\n",
       "    </tr>\n",
       "  </tbody>\n",
       "</table>\n",
       "<p>5 rows × 202 columns</p>\n",
       "</div>"
      ],
      "text/plain": [
       "             ID_code  target    var_0   var_1    var_2   var_3    var_4  \\\n",
       "49673    train_49673       0  11.5208  0.0345  13.6967  8.7980  11.4984   \n",
       "171551  train_171551       0  10.6327 -3.0837   7.3320  8.9173   9.8485   \n",
       "5506      train_5506       0  13.4346 -4.7138  10.2488  7.2394  11.5154   \n",
       "38370    train_38370       0   4.8650  4.3326  13.9920  6.9034  12.1384   \n",
       "36930    train_36930       0   9.8466 -2.0145  10.6657  4.9808  10.0866   \n",
       "\n",
       "          var_5   var_6    var_7   ...     var_190  var_191  var_192  var_193  \\\n",
       "49673  -14.4183  5.2356  14.6201   ...     -2.5931   6.8155   4.0026   5.7603   \n",
       "171551 -10.0986  5.4894  11.2602   ...      7.2326   5.0710   3.4117   4.1256   \n",
       "5506   -10.7816  4.4755  16.3473   ...      1.5606  14.4879   1.8716   6.0999   \n",
       "38370   -1.6310  5.2511  14.0651   ...     -5.9529   5.7586   3.0283  -2.4441   \n",
       "36930   -7.7280  4.6048  16.5240   ...     -0.5729   9.0527   1.2550  -4.4527   \n",
       "\n",
       "        var_194  var_195  var_196  var_197  var_198  var_199  \n",
       "49673   16.7222   0.5767  -3.1717   8.9964  19.5975 -16.0881  \n",
       "171551  19.3753  -2.2722  -2.5486   6.3672  16.0392  -0.8213  \n",
       "5506    21.1498   3.1641  -3.9446   9.4770  17.1406 -18.9208  \n",
       "38370   16.7881  -0.2528  -5.1544   8.4277  12.8527   1.1520  \n",
       "36930   16.0889   0.8156   4.3412   9.0945  13.4120   8.3931  \n",
       "\n",
       "[5 rows x 202 columns]"
      ]
     },
     "execution_count": 5,
     "metadata": {},
     "output_type": "execute_result"
    }
   ],
   "source": [
    "# View the data\n",
    "df.head()"
   ]
  },
  {
   "cell_type": "code",
   "execution_count": 6,
   "metadata": {},
   "outputs": [
    {
     "data": {
      "text/plain": [
       "0    4539\n",
       "1     461\n",
       "Name: target, dtype: int64"
      ]
     },
     "execution_count": 6,
     "metadata": {},
     "output_type": "execute_result"
    }
   ],
   "source": [
    "# Identify response class imbalance\n",
    "df.target.value_counts()"
   ]
  },
  {
   "cell_type": "code",
   "execution_count": 7,
   "metadata": {},
   "outputs": [
    {
     "name": "stdout",
     "output_type": "stream",
     "text": [
      "<class 'pandas.core.frame.DataFrame'>\n",
      "Int64Index: 5000 entries, 49673 to 184893\n",
      "Columns: 202 entries, ID_code to var_199\n",
      "dtypes: float64(200), int64(1), object(1)\n",
      "memory usage: 7.7+ MB\n"
     ]
    }
   ],
   "source": [
    "# Get information about data\n",
    "df.info()"
   ]
  },
  {
   "cell_type": "code",
   "execution_count": 8,
   "metadata": {},
   "outputs": [
    {
     "data": {
      "text/plain": [
       "array([0], dtype=int64)"
      ]
     },
     "execution_count": 8,
     "metadata": {},
     "output_type": "execute_result"
    }
   ],
   "source": [
    "# Identify if there are any null values in data\n",
    "\n",
    "(df.isna().sum()).unique()"
   ]
  },
  {
   "cell_type": "code",
   "execution_count": 9,
   "metadata": {},
   "outputs": [
    {
     "data": {
      "text/html": [
       "<div>\n",
       "<style scoped>\n",
       "    .dataframe tbody tr th:only-of-type {\n",
       "        vertical-align: middle;\n",
       "    }\n",
       "\n",
       "    .dataframe tbody tr th {\n",
       "        vertical-align: top;\n",
       "    }\n",
       "\n",
       "    .dataframe thead th {\n",
       "        text-align: right;\n",
       "    }\n",
       "</style>\n",
       "<table border=\"1\" class=\"dataframe\">\n",
       "  <thead>\n",
       "    <tr style=\"text-align: right;\">\n",
       "      <th></th>\n",
       "      <th>target</th>\n",
       "      <th>var_0</th>\n",
       "      <th>var_1</th>\n",
       "      <th>var_2</th>\n",
       "      <th>var_3</th>\n",
       "      <th>var_4</th>\n",
       "      <th>var_5</th>\n",
       "      <th>var_6</th>\n",
       "      <th>var_7</th>\n",
       "      <th>var_8</th>\n",
       "      <th>...</th>\n",
       "      <th>var_190</th>\n",
       "      <th>var_191</th>\n",
       "      <th>var_192</th>\n",
       "      <th>var_193</th>\n",
       "      <th>var_194</th>\n",
       "      <th>var_195</th>\n",
       "      <th>var_196</th>\n",
       "      <th>var_197</th>\n",
       "      <th>var_198</th>\n",
       "      <th>var_199</th>\n",
       "    </tr>\n",
       "  </thead>\n",
       "  <tbody>\n",
       "    <tr>\n",
       "      <th>count</th>\n",
       "      <td>5000.000000</td>\n",
       "      <td>5000.000000</td>\n",
       "      <td>5000.000000</td>\n",
       "      <td>5000.000000</td>\n",
       "      <td>5000.000000</td>\n",
       "      <td>5000.000000</td>\n",
       "      <td>5000.000000</td>\n",
       "      <td>5000.000000</td>\n",
       "      <td>5000.000000</td>\n",
       "      <td>5000.000000</td>\n",
       "      <td>...</td>\n",
       "      <td>5000.000000</td>\n",
       "      <td>5000.000000</td>\n",
       "      <td>5000.000000</td>\n",
       "      <td>5000.000000</td>\n",
       "      <td>5000.000000</td>\n",
       "      <td>5000.000000</td>\n",
       "      <td>5000.000000</td>\n",
       "      <td>5000.000000</td>\n",
       "      <td>5000.000000</td>\n",
       "      <td>5000.000000</td>\n",
       "    </tr>\n",
       "    <tr>\n",
       "      <th>mean</th>\n",
       "      <td>0.092200</td>\n",
       "      <td>10.723799</td>\n",
       "      <td>-1.601407</td>\n",
       "      <td>10.674967</td>\n",
       "      <td>6.793906</td>\n",
       "      <td>11.049505</td>\n",
       "      <td>-4.819408</td>\n",
       "      <td>5.419619</td>\n",
       "      <td>16.541580</td>\n",
       "      <td>0.240256</td>\n",
       "      <td>...</td>\n",
       "      <td>3.162564</td>\n",
       "      <td>7.432183</td>\n",
       "      <td>1.924122</td>\n",
       "      <td>3.267422</td>\n",
       "      <td>18.041109</td>\n",
       "      <td>-0.125847</td>\n",
       "      <td>2.337881</td>\n",
       "      <td>8.905262</td>\n",
       "      <td>15.900023</td>\n",
       "      <td>-3.219979</td>\n",
       "    </tr>\n",
       "    <tr>\n",
       "      <th>std</th>\n",
       "      <td>0.289337</td>\n",
       "      <td>3.041889</td>\n",
       "      <td>4.033928</td>\n",
       "      <td>2.622750</td>\n",
       "      <td>2.062607</td>\n",
       "      <td>1.602941</td>\n",
       "      <td>7.931624</td>\n",
       "      <td>0.869581</td>\n",
       "      <td>3.440874</td>\n",
       "      <td>3.370009</td>\n",
       "      <td>...</td>\n",
       "      <td>4.544096</td>\n",
       "      <td>3.002937</td>\n",
       "      <td>1.489051</td>\n",
       "      <td>3.983875</td>\n",
       "      <td>3.138189</td>\n",
       "      <td>1.433573</td>\n",
       "      <td>5.463942</td>\n",
       "      <td>0.924619</td>\n",
       "      <td>2.973349</td>\n",
       "      <td>10.384270</td>\n",
       "    </tr>\n",
       "    <tr>\n",
       "      <th>min</th>\n",
       "      <td>0.000000</td>\n",
       "      <td>1.492000</td>\n",
       "      <td>-13.422700</td>\n",
       "      <td>3.060100</td>\n",
       "      <td>0.374000</td>\n",
       "      <td>6.356000</td>\n",
       "      <td>-25.071900</td>\n",
       "      <td>2.871700</td>\n",
       "      <td>7.750900</td>\n",
       "      <td>-9.376900</td>\n",
       "      <td>...</td>\n",
       "      <td>-10.261800</td>\n",
       "      <td>-0.741500</td>\n",
       "      <td>-3.436000</td>\n",
       "      <td>-9.576600</td>\n",
       "      <td>10.133800</td>\n",
       "      <td>-4.354800</td>\n",
       "      <td>-11.691000</td>\n",
       "      <td>6.361300</td>\n",
       "      <td>7.439000</td>\n",
       "      <td>-33.962600</td>\n",
       "    </tr>\n",
       "    <tr>\n",
       "      <th>25%</th>\n",
       "      <td>0.000000</td>\n",
       "      <td>8.500450</td>\n",
       "      <td>-4.769050</td>\n",
       "      <td>8.670375</td>\n",
       "      <td>5.238625</td>\n",
       "      <td>9.893675</td>\n",
       "      <td>-11.032225</td>\n",
       "      <td>4.776875</td>\n",
       "      <td>13.929250</td>\n",
       "      <td>-2.411075</td>\n",
       "      <td>...</td>\n",
       "      <td>-0.117075</td>\n",
       "      <td>5.226675</td>\n",
       "      <td>0.903475</td>\n",
       "      <td>0.557050</td>\n",
       "      <td>15.698225</td>\n",
       "      <td>-1.146025</td>\n",
       "      <td>-1.892800</td>\n",
       "      <td>8.247325</td>\n",
       "      <td>13.908650</td>\n",
       "      <td>-10.939225</td>\n",
       "    </tr>\n",
       "    <tr>\n",
       "      <th>50%</th>\n",
       "      <td>0.000000</td>\n",
       "      <td>10.571600</td>\n",
       "      <td>-1.520650</td>\n",
       "      <td>10.541900</td>\n",
       "      <td>6.832600</td>\n",
       "      <td>11.085700</td>\n",
       "      <td>-4.440700</td>\n",
       "      <td>5.388100</td>\n",
       "      <td>16.399000</td>\n",
       "      <td>0.352200</td>\n",
       "      <td>...</td>\n",
       "      <td>3.182600</td>\n",
       "      <td>7.263200</td>\n",
       "      <td>1.880450</td>\n",
       "      <td>3.315600</td>\n",
       "      <td>18.009050</td>\n",
       "      <td>-0.151500</td>\n",
       "      <td>2.388000</td>\n",
       "      <td>8.889200</td>\n",
       "      <td>15.916150</td>\n",
       "      <td>-2.583100</td>\n",
       "    </tr>\n",
       "    <tr>\n",
       "      <th>75%</th>\n",
       "      <td>0.000000</td>\n",
       "      <td>12.795700</td>\n",
       "      <td>1.427500</td>\n",
       "      <td>12.517950</td>\n",
       "      <td>8.289825</td>\n",
       "      <td>12.204375</td>\n",
       "      <td>1.291475</td>\n",
       "      <td>6.035075</td>\n",
       "      <td>19.057350</td>\n",
       "      <td>2.925800</td>\n",
       "      <td>...</td>\n",
       "      <td>6.272625</td>\n",
       "      <td>9.492300</td>\n",
       "      <td>2.903800</td>\n",
       "      <td>6.097825</td>\n",
       "      <td>20.419950</td>\n",
       "      <td>0.842250</td>\n",
       "      <td>6.592950</td>\n",
       "      <td>9.590775</td>\n",
       "      <td>18.017225</td>\n",
       "      <td>4.750225</td>\n",
       "    </tr>\n",
       "    <tr>\n",
       "      <th>max</th>\n",
       "      <td>1.000000</td>\n",
       "      <td>19.325900</td>\n",
       "      <td>8.614600</td>\n",
       "      <td>18.201000</td>\n",
       "      <td>12.589500</td>\n",
       "      <td>15.155000</td>\n",
       "      <td>15.554300</td>\n",
       "      <td>7.813700</td>\n",
       "      <td>27.072000</td>\n",
       "      <td>9.033000</td>\n",
       "      <td>...</td>\n",
       "      <td>15.921000</td>\n",
       "      <td>16.180600</td>\n",
       "      <td>7.600200</td>\n",
       "      <td>15.209600</td>\n",
       "      <td>27.928800</td>\n",
       "      <td>3.526600</td>\n",
       "      <td>14.484700</td>\n",
       "      <td>11.832900</td>\n",
       "      <td>25.064600</td>\n",
       "      <td>22.610300</td>\n",
       "    </tr>\n",
       "  </tbody>\n",
       "</table>\n",
       "<p>8 rows × 201 columns</p>\n",
       "</div>"
      ],
      "text/plain": [
       "            target        var_0        var_1        var_2        var_3  \\\n",
       "count  5000.000000  5000.000000  5000.000000  5000.000000  5000.000000   \n",
       "mean      0.092200    10.723799    -1.601407    10.674967     6.793906   \n",
       "std       0.289337     3.041889     4.033928     2.622750     2.062607   \n",
       "min       0.000000     1.492000   -13.422700     3.060100     0.374000   \n",
       "25%       0.000000     8.500450    -4.769050     8.670375     5.238625   \n",
       "50%       0.000000    10.571600    -1.520650    10.541900     6.832600   \n",
       "75%       0.000000    12.795700     1.427500    12.517950     8.289825   \n",
       "max       1.000000    19.325900     8.614600    18.201000    12.589500   \n",
       "\n",
       "             var_4        var_5        var_6        var_7        var_8  \\\n",
       "count  5000.000000  5000.000000  5000.000000  5000.000000  5000.000000   \n",
       "mean     11.049505    -4.819408     5.419619    16.541580     0.240256   \n",
       "std       1.602941     7.931624     0.869581     3.440874     3.370009   \n",
       "min       6.356000   -25.071900     2.871700     7.750900    -9.376900   \n",
       "25%       9.893675   -11.032225     4.776875    13.929250    -2.411075   \n",
       "50%      11.085700    -4.440700     5.388100    16.399000     0.352200   \n",
       "75%      12.204375     1.291475     6.035075    19.057350     2.925800   \n",
       "max      15.155000    15.554300     7.813700    27.072000     9.033000   \n",
       "\n",
       "          ...           var_190      var_191      var_192      var_193  \\\n",
       "count     ...       5000.000000  5000.000000  5000.000000  5000.000000   \n",
       "mean      ...          3.162564     7.432183     1.924122     3.267422   \n",
       "std       ...          4.544096     3.002937     1.489051     3.983875   \n",
       "min       ...        -10.261800    -0.741500    -3.436000    -9.576600   \n",
       "25%       ...         -0.117075     5.226675     0.903475     0.557050   \n",
       "50%       ...          3.182600     7.263200     1.880450     3.315600   \n",
       "75%       ...          6.272625     9.492300     2.903800     6.097825   \n",
       "max       ...         15.921000    16.180600     7.600200    15.209600   \n",
       "\n",
       "           var_194      var_195      var_196      var_197      var_198  \\\n",
       "count  5000.000000  5000.000000  5000.000000  5000.000000  5000.000000   \n",
       "mean     18.041109    -0.125847     2.337881     8.905262    15.900023   \n",
       "std       3.138189     1.433573     5.463942     0.924619     2.973349   \n",
       "min      10.133800    -4.354800   -11.691000     6.361300     7.439000   \n",
       "25%      15.698225    -1.146025    -1.892800     8.247325    13.908650   \n",
       "50%      18.009050    -0.151500     2.388000     8.889200    15.916150   \n",
       "75%      20.419950     0.842250     6.592950     9.590775    18.017225   \n",
       "max      27.928800     3.526600    14.484700    11.832900    25.064600   \n",
       "\n",
       "           var_199  \n",
       "count  5000.000000  \n",
       "mean     -3.219979  \n",
       "std      10.384270  \n",
       "min     -33.962600  \n",
       "25%     -10.939225  \n",
       "50%      -2.583100  \n",
       "75%       4.750225  \n",
       "max      22.610300  \n",
       "\n",
       "[8 rows x 201 columns]"
      ]
     },
     "execution_count": 9,
     "metadata": {},
     "output_type": "execute_result"
    }
   ],
   "source": [
    "# Descriptive statistics\n",
    "df.describe()"
   ]
  },
  {
   "cell_type": "code",
   "execution_count": 10,
   "metadata": {},
   "outputs": [
    {
     "data": {
      "text/plain": [
       "(5000, 202)"
      ]
     },
     "execution_count": 10,
     "metadata": {},
     "output_type": "execute_result"
    }
   ],
   "source": [
    "# Identify the dataframe shapre\n",
    "df.shape"
   ]
  },
  {
   "cell_type": "code",
   "execution_count": 11,
   "metadata": {},
   "outputs": [],
   "source": [
    "# Create dataframe with column name and its skewness and kurtosis\n",
    "\n",
    "skewness = pd.DataFrame(columns=['name','value'])\n",
    "sk=[]\n",
    "for i in df.columns[2:]:\n",
    "    #print('skewness for {} is {}'.format(i,df[i].skew()))\n",
    "    s = [i,df[i].skew(),df[i].kurtosis()]\n",
    "    \n",
    "    sk.append(s)\n",
    "    \n",
    "metrics=pd.DataFrame(sk,columns=['col_name','skewness','kurtosis'])"
   ]
  },
  {
   "cell_type": "code",
   "execution_count": 12,
   "metadata": {},
   "outputs": [
    {
     "data": {
      "text/plain": [
       "179    0.269864\n",
       "168    0.254884\n",
       "181    0.242669\n",
       "2      0.234467\n",
       "163    0.228851\n",
       "0      0.214211\n",
       "191    0.208783\n",
       "62     0.201418\n",
       "41     0.195912\n",
       "24     0.189726\n",
       "29     0.183197\n",
       "26     0.173867\n",
       "89     0.173664\n",
       "125    0.170257\n",
       "16     0.170249\n",
       "95     0.160890\n",
       "25     0.157329\n",
       "6      0.157214\n",
       "22     0.155710\n",
       "60     0.155132\n",
       "177    0.146746\n",
       "157    0.145869\n",
       "175    0.145774\n",
       "184    0.144839\n",
       "18     0.136578\n",
       "160    0.133627\n",
       "38     0.130702\n",
       "110    0.128251\n",
       "7      0.123492\n",
       "195    0.123137\n",
       "         ...   \n",
       "100   -0.100444\n",
       "143   -0.105199\n",
       "197   -0.105471\n",
       "193   -0.107146\n",
       "63    -0.108498\n",
       "146   -0.112781\n",
       "140   -0.116210\n",
       "139   -0.127311\n",
       "115   -0.134534\n",
       "174   -0.136247\n",
       "30    -0.139236\n",
       "56    -0.152445\n",
       "68    -0.153536\n",
       "98    -0.158487\n",
       "198   -0.159062\n",
       "76    -0.160654\n",
       "12    -0.164100\n",
       "13    -0.165491\n",
       "131   -0.166395\n",
       "199   -0.173658\n",
       "86    -0.175819\n",
       "112   -0.177049\n",
       "42    -0.177788\n",
       "9     -0.190592\n",
       "80    -0.197239\n",
       "123   -0.217808\n",
       "108   -0.233089\n",
       "93    -0.268684\n",
       "81    -0.275523\n",
       "44    -0.356018\n",
       "Name: skewness, Length: 200, dtype: float64"
      ]
     },
     "execution_count": 12,
     "metadata": {},
     "output_type": "execute_result"
    }
   ],
   "source": [
    "metrics.skewness.sort_values(ascending=False)"
   ]
  },
  {
   "cell_type": "code",
   "execution_count": 13,
   "metadata": {},
   "outputs": [
    {
     "data": {
      "text/plain": [
       "179   -0.013548\n",
       "44    -0.053933\n",
       "192   -0.146104\n",
       "81    -0.146649\n",
       "93    -0.176664\n",
       "198   -0.186982\n",
       "62    -0.190704\n",
       "86    -0.216875\n",
       "105   -0.221123\n",
       "146   -0.233153\n",
       "110   -0.239525\n",
       "29    -0.242006\n",
       "124   -0.244574\n",
       "26    -0.249544\n",
       "193   -0.253256\n",
       "168   -0.264639\n",
       "11    -0.269469\n",
       "106   -0.270288\n",
       "0     -0.271416\n",
       "172   -0.275352\n",
       "31    -0.276936\n",
       "181   -0.282177\n",
       "133   -0.289877\n",
       "38    -0.293042\n",
       "148   -0.293391\n",
       "50    -0.297636\n",
       "95    -0.304347\n",
       "76    -0.305829\n",
       "67    -0.320932\n",
       "25    -0.325669\n",
       "         ...   \n",
       "78    -0.689719\n",
       "96    -0.693303\n",
       "121   -0.694939\n",
       "199   -0.695326\n",
       "27    -0.696208\n",
       "13    -0.696690\n",
       "137   -0.707311\n",
       "109   -0.708239\n",
       "101   -0.714240\n",
       "5     -0.720368\n",
       "94    -0.722608\n",
       "187   -0.727951\n",
       "9     -0.730655\n",
       "82    -0.732864\n",
       "85    -0.737709\n",
       "112   -0.739876\n",
       "126   -0.740060\n",
       "55    -0.754919\n",
       "33    -0.756710\n",
       "196   -0.765361\n",
       "177   -0.765956\n",
       "14    -0.766204\n",
       "24    -0.773592\n",
       "47    -0.777921\n",
       "77    -0.788269\n",
       "30    -0.794914\n",
       "160   -0.801317\n",
       "136   -0.813229\n",
       "20    -0.819250\n",
       "8     -0.830700\n",
       "Name: kurtosis, Length: 200, dtype: float64"
      ]
     },
     "execution_count": 13,
     "metadata": {},
     "output_type": "execute_result"
    }
   ],
   "source": [
    "metrics['kurtosis'].sort_values(ascending=False)"
   ]
  },
  {
   "cell_type": "markdown",
   "metadata": {},
   "source": [
    "#### EXPLORATORY DATA ANALYSIS"
   ]
  },
  {
   "cell_type": "code",
   "execution_count": 14,
   "metadata": {},
   "outputs": [
    {
     "data": {
      "text/plain": [
       "<matplotlib.axes._subplots.AxesSubplot at 0x22d21069cc0>"
      ]
     },
     "execution_count": 14,
     "metadata": {},
     "output_type": "execute_result"
    },
    {
     "data": {
      "image/png": "[encoded data removed]",
      "text/plain": [
       "<Figure size 1080x1080 with 2 Axes>"
      ]
     },
     "metadata": {
      "needs_background": "light"
     },
     "output_type": "display_data"
    }
   ],
   "source": [
    "# View class imbalance for response class\n",
    "\n",
    "plt.figure(figsize=(15,15))\n",
    "\n",
    "plt.subplot2grid((3,3),(0,0))\n",
    "df.target.value_counts(normalize=True).plot(kind='bar',alpha=0.5)\n",
    "plt.xlabel(\"Class\")\n",
    "plt.ylabel(\"Percentage share\")\n",
    "\n",
    "plt.subplot2grid((3,3),(0,1))\n",
    "df.var_0.plot(kind='kde')\n",
    "\n"
   ]
  },
  {
   "cell_type": "code",
   "execution_count": 15,
   "metadata": {},
   "outputs": [
    {
     "name": "stderr",
     "output_type": "stream",
     "text": [
      "C:\\Users\\errit\\Anaconda3\\lib\\site-packages\\scipy\\stats\\stats.py:1713: FutureWarning: Using a non-tuple sequence for multidimensional indexing is deprecated; use `arr[tuple(seq)]` instead of `arr[seq]`. In the future this will be interpreted as an array index, `arr[np.array(seq)]`, which will result either in an error or a different result.\n",
      "  return np.add.reduce(sorted[indexer] * weights, axis=axis) / sumval\n"
     ]
    },
    {
     "data": {
      "text/plain": [
       "<matplotlib.axes._subplots.AxesSubplot at 0x22d23b49d68>"
      ]
     },
     "execution_count": 15,
     "metadata": {},
     "output_type": "execute_result"
    },
    {
     "data": {
      "image/png": "[encoded data removed]",
      "text/plain": [
       "<Figure size 432x288 with 1 Axes>"
      ]
     },
     "metadata": {
      "needs_background": "light"
     },
     "output_type": "display_data"
    }
   ],
   "source": [
    "# Identifying correlations\n",
    "corr = df.corr()\n",
    "\n",
    "sns.distplot(corr['target'].sort_values())\n"
   ]
  },
  {
   "cell_type": "code",
   "execution_count": 16,
   "metadata": {},
   "outputs": [
    {
     "data": {
      "text/plain": [
       "<matplotlib.axes._subplots.AxesSubplot at 0x22d244d5940>"
      ]
     },
     "execution_count": 16,
     "metadata": {},
     "output_type": "execute_result"
    },
    {
     "data": {
      "image/png": "[encoded data removed]",
      "text/plain": [
       "<Figure size 432x288 with 1 Axes>"
      ]
     },
     "metadata": {
      "needs_background": "light"
     },
     "output_type": "display_data"
    }
   ],
   "source": [
    "metrics['kurtosis'].sort_values(ascending=False).plot(kind='bar')"
   ]
  },
  {
   "cell_type": "code",
   "execution_count": 17,
   "metadata": {},
   "outputs": [
    {
     "data": {
      "text/plain": [
       "<matplotlib.axes._subplots.AxesSubplot at 0x22d24585eb8>"
      ]
     },
     "execution_count": 17,
     "metadata": {},
     "output_type": "execute_result"
    },
    {
     "data": {
      "image/png": "[encoded data removed]",
      "text/plain": [
       "<Figure size 432x288 with 1 Axes>"
      ]
     },
     "metadata": {
      "needs_background": "light"
     },
     "output_type": "display_data"
    }
   ],
   "source": [
    "metrics['skewness'].sort_values(ascending=False).plot(kind='bar')"
   ]
  },
  {
   "cell_type": "code",
   "execution_count": 18,
   "metadata": {},
   "outputs": [],
   "source": [
    "# Training data set split for Model Building\n",
    "\n",
    "x_train = df.drop(columns=['target','ID_code'],axis=0)\n",
    "y_train = df[['target']]"
   ]
  },
  {
   "cell_type": "markdown",
   "metadata": {},
   "source": [
    "### LOGISTIC REGRESSION WITH BALANCED CLASS WEIGHT"
   ]
  },
  {
   "cell_type": "code",
   "execution_count": 19,
   "metadata": {},
   "outputs": [],
   "source": [
    "# Scaling the predictors for regularization\n",
    "\n",
    "from sklearn.preprocessing import StandardScaler\n",
    "\n",
    "# Create a scaler object\n",
    "sc = StandardScaler()\n",
    "\n",
    "# Fit the scaler to the training data and transform\n",
    "X_train_std = sc.fit_transform(x_train)\n"
   ]
  },
  {
   "cell_type": "markdown",
   "metadata": {},
   "source": [
    "###### L2 Regularization \n",
    "###### Class weight as there is a class imbalance\n",
    "###### Cross Validation to select the value of regularization hyperparameter"
   ]
  },
  {
   "cell_type": "code",
   "execution_count": 20,
   "metadata": {},
   "outputs": [
    {
     "name": "stderr",
     "output_type": "stream",
     "text": [
      "C:\\Users\\errit\\Anaconda3\\lib\\site-packages\\sklearn\\utils\\validation.py:578: DataConversionWarning: A column-vector y was passed when a 1d array was expected. Please change the shape of y to (n_samples, ), for example using ravel().\n",
      "  y = column_or_1d(y, warn=True)\n"
     ]
    }
   ],
   "source": [
    "#lr_classifier = LogisticRegression(penalty='l2',C=1,class_weight='balanced')\n",
    "lr_classifier = LogisticRegression(penalty='l2',C=1,class_weight='balanced')\n",
    "lr_model = lr_classifier.fit(X_train_std,y_train)"
   ]
  },
  {
   "cell_type": "code",
   "execution_count": 21,
   "metadata": {},
   "outputs": [
    {
     "data": {
      "text/plain": [
       "(5000, 200)"
      ]
     },
     "execution_count": 21,
     "metadata": {},
     "output_type": "execute_result"
    }
   ],
   "source": [
    "x_test = df_test.drop(columns=['ID_code'],axis=0)\n",
    "x_test.shape\n"
   ]
  },
  {
   "cell_type": "code",
   "execution_count": 22,
   "metadata": {},
   "outputs": [],
   "source": [
    "lr_pred = lr_model.predict(X_train_std)"
   ]
  },
  {
   "cell_type": "code",
   "execution_count": 23,
   "metadata": {},
   "outputs": [
    {
     "data": {
      "text/plain": [
       "array([[3705,  834],\n",
       "       [  71,  390]], dtype=int64)"
      ]
     },
     "execution_count": 23,
     "metadata": {},
     "output_type": "execute_result"
    }
   ],
   "source": [
    "confusion_matrix(y_train,lr_pred)"
   ]
  },
  {
   "cell_type": "code",
   "execution_count": 24,
   "metadata": {},
   "outputs": [
    {
     "data": {
      "text/plain": [
       "0.819"
      ]
     },
     "execution_count": 24,
     "metadata": {},
     "output_type": "execute_result"
    }
   ],
   "source": [
    "accuracy_score(y_train,lr_pred)"
   ]
  },
  {
   "cell_type": "code",
   "execution_count": 25,
   "metadata": {},
   "outputs": [
    {
     "name": "stdout",
     "output_type": "stream",
     "text": [
      "             precision    recall  f1-score   support\n",
      "\n",
      "          0       0.98      0.82      0.89      4539\n",
      "          1       0.32      0.85      0.46       461\n",
      "\n",
      "avg / total       0.92      0.82      0.85      5000\n",
      "\n"
     ]
    }
   ],
   "source": [
    "print(classification_report(y_train,lr_pred))"
   ]
  },
  {
   "cell_type": "code",
   "execution_count": 26,
   "metadata": {
    "scrolled": true
   },
   "outputs": [
    {
     "name": "stderr",
     "output_type": "stream",
     "text": [
      "C:\\Users\\errit\\Anaconda3\\lib\\site-packages\\sklearn\\utils\\validation.py:578: DataConversionWarning: A column-vector y was passed when a 1d array was expected. Please change the shape of y to (n_samples, ), for example using ravel().\n",
      "  y = column_or_1d(y, warn=True)\n",
      "C:\\Users\\errit\\Anaconda3\\lib\\site-packages\\sklearn\\utils\\validation.py:578: DataConversionWarning: A column-vector y was passed when a 1d array was expected. Please change the shape of y to (n_samples, ), for example using ravel().\n",
      "  y = column_or_1d(y, warn=True)\n",
      "C:\\Users\\errit\\Anaconda3\\lib\\site-packages\\sklearn\\utils\\validation.py:578: DataConversionWarning: A column-vector y was passed when a 1d array was expected. Please change the shape of y to (n_samples, ), for example using ravel().\n",
      "  y = column_or_1d(y, warn=True)\n",
      "C:\\Users\\errit\\Anaconda3\\lib\\site-packages\\sklearn\\utils\\validation.py:578: DataConversionWarning: A column-vector y was passed when a 1d array was expected. Please change the shape of y to (n_samples, ), for example using ravel().\n",
      "  y = column_or_1d(y, warn=True)\n",
      "C:\\Users\\errit\\Anaconda3\\lib\\site-packages\\sklearn\\utils\\validation.py:578: DataConversionWarning: A column-vector y was passed when a 1d array was expected. Please change the shape of y to (n_samples, ), for example using ravel().\n",
      "  y = column_or_1d(y, warn=True)\n",
      "C:\\Users\\errit\\Anaconda3\\lib\\site-packages\\sklearn\\utils\\validation.py:578: DataConversionWarning: A column-vector y was passed when a 1d array was expected. Please change the shape of y to (n_samples, ), for example using ravel().\n",
      "  y = column_or_1d(y, warn=True)\n",
      "C:\\Users\\errit\\Anaconda3\\lib\\site-packages\\sklearn\\utils\\validation.py:578: DataConversionWarning: A column-vector y was passed when a 1d array was expected. Please change the shape of y to (n_samples, ), for example using ravel().\n",
      "  y = column_or_1d(y, warn=True)\n",
      "C:\\Users\\errit\\Anaconda3\\lib\\site-packages\\sklearn\\utils\\validation.py:578: DataConversionWarning: A column-vector y was passed when a 1d array was expected. Please change the shape of y to (n_samples, ), for example using ravel().\n",
      "  y = column_or_1d(y, warn=True)\n",
      "C:\\Users\\errit\\Anaconda3\\lib\\site-packages\\sklearn\\utils\\validation.py:578: DataConversionWarning: A column-vector y was passed when a 1d array was expected. Please change the shape of y to (n_samples, ), for example using ravel().\n",
      "  y = column_or_1d(y, warn=True)\n",
      "C:\\Users\\errit\\Anaconda3\\lib\\site-packages\\sklearn\\utils\\validation.py:578: DataConversionWarning: A column-vector y was passed when a 1d array was expected. Please change the shape of y to (n_samples, ), for example using ravel().\n",
      "  y = column_or_1d(y, warn=True)\n"
     ]
    }
   ],
   "source": [
    "cv = cross_val_score(lr_model,X_train_std,y_train,cv=10)"
   ]
  },
  {
   "cell_type": "code",
   "execution_count": 27,
   "metadata": {},
   "outputs": [
    {
     "data": {
      "text/plain": [
       "array([0.78243513, 0.812     , 0.774     , 0.824     , 0.77      ,\n",
       "       0.816     , 0.824     , 0.786     , 0.788     , 0.79158317])"
      ]
     },
     "execution_count": 27,
     "metadata": {},
     "output_type": "execute_result"
    }
   ],
   "source": [
    "cv"
   ]
  },
  {
   "cell_type": "code",
   "execution_count": 28,
   "metadata": {
    "scrolled": true
   },
   "outputs": [
    {
     "data": {
      "text/plain": [
       "0.7968018296073184"
      ]
     },
     "execution_count": 28,
     "metadata": {},
     "output_type": "execute_result"
    }
   ],
   "source": [
    "cv.mean()"
   ]
  },
  {
   "cell_type": "code",
   "execution_count": 29,
   "metadata": {},
   "outputs": [],
   "source": [
    "# Regularization - l1,l2, Elastinet\n",
    "# Class Weight\n",
    "# Stratified KFold\n",
    "# Cross validation estimating regularization parameters\n",
    "# Logistic regression - ROC , AUC and looking at Classification report"
   ]
  },
  {
   "cell_type": "markdown",
   "metadata": {},
   "source": [
    "###### L1 Regularization \n",
    "###### Class weight as there is a class imbalance\n",
    "###### Cross Validation to select the value of regularization hyperparameter"
   ]
  },
  {
   "cell_type": "code",
   "execution_count": 30,
   "metadata": {},
   "outputs": [
    {
     "name": "stderr",
     "output_type": "stream",
     "text": [
      "C:\\Users\\errit\\Anaconda3\\lib\\site-packages\\sklearn\\utils\\validation.py:578: DataConversionWarning: A column-vector y was passed when a 1d array was expected. Please change the shape of y to (n_samples, ), for example using ravel().\n",
      "  y = column_or_1d(y, warn=True)\n"
     ]
    }
   ],
   "source": [
    "#lr_classifier = LogisticRegression(penalty='l2',C=1,class_weight='balanced')\n",
    "l1_lr_classifier = LogisticRegression(penalty='l1',C=1,class_weight='balanced')\n",
    "l1_lr_model = l1_lr_classifier.fit(X_train_std,y_train)"
   ]
  },
  {
   "cell_type": "code",
   "execution_count": 31,
   "metadata": {},
   "outputs": [],
   "source": [
    "l1_lr_pred = l1_lr_model.predict(X_train_std)"
   ]
  },
  {
   "cell_type": "code",
   "execution_count": 32,
   "metadata": {},
   "outputs": [
    {
     "data": {
      "text/plain": [
       "array([[3706,  833],\n",
       "       [  72,  389]], dtype=int64)"
      ]
     },
     "execution_count": 32,
     "metadata": {},
     "output_type": "execute_result"
    }
   ],
   "source": [
    "confusion_matrix(y_train,l1_lr_pred)"
   ]
  },
  {
   "cell_type": "code",
   "execution_count": 33,
   "metadata": {},
   "outputs": [
    {
     "data": {
      "text/plain": [
       "0.819"
      ]
     },
     "execution_count": 33,
     "metadata": {},
     "output_type": "execute_result"
    }
   ],
   "source": [
    "accuracy_score(y_train,l1_lr_pred)"
   ]
  },
  {
   "cell_type": "code",
   "execution_count": 34,
   "metadata": {},
   "outputs": [
    {
     "name": "stdout",
     "output_type": "stream",
     "text": [
      "             precision    recall  f1-score   support\n",
      "\n",
      "          0       0.98      0.82      0.89      4539\n",
      "          1       0.32      0.84      0.46       461\n",
      "\n",
      "avg / total       0.92      0.82      0.85      5000\n",
      "\n"
     ]
    }
   ],
   "source": [
    "print(classification_report(y_train,l1_lr_pred))"
   ]
  },
  {
   "cell_type": "code",
   "execution_count": 35,
   "metadata": {},
   "outputs": [
    {
     "name": "stderr",
     "output_type": "stream",
     "text": [
      "C:\\Users\\errit\\Anaconda3\\lib\\site-packages\\sklearn\\utils\\validation.py:578: DataConversionWarning: A column-vector y was passed when a 1d array was expected. Please change the shape of y to (n_samples, ), for example using ravel().\n",
      "  y = column_or_1d(y, warn=True)\n",
      "C:\\Users\\errit\\Anaconda3\\lib\\site-packages\\sklearn\\utils\\validation.py:578: DataConversionWarning: A column-vector y was passed when a 1d array was expected. Please change the shape of y to (n_samples, ), for example using ravel().\n",
      "  y = column_or_1d(y, warn=True)\n",
      "C:\\Users\\errit\\Anaconda3\\lib\\site-packages\\sklearn\\utils\\validation.py:578: DataConversionWarning: A column-vector y was passed when a 1d array was expected. Please change the shape of y to (n_samples, ), for example using ravel().\n",
      "  y = column_or_1d(y, warn=True)\n",
      "C:\\Users\\errit\\Anaconda3\\lib\\site-packages\\sklearn\\utils\\validation.py:578: DataConversionWarning: A column-vector y was passed when a 1d array was expected. Please change the shape of y to (n_samples, ), for example using ravel().\n",
      "  y = column_or_1d(y, warn=True)\n",
      "C:\\Users\\errit\\Anaconda3\\lib\\site-packages\\sklearn\\utils\\validation.py:578: DataConversionWarning: A column-vector y was passed when a 1d array was expected. Please change the shape of y to (n_samples, ), for example using ravel().\n",
      "  y = column_or_1d(y, warn=True)\n",
      "C:\\Users\\errit\\Anaconda3\\lib\\site-packages\\sklearn\\utils\\validation.py:578: DataConversionWarning: A column-vector y was passed when a 1d array was expected. Please change the shape of y to (n_samples, ), for example using ravel().\n",
      "  y = column_or_1d(y, warn=True)\n",
      "C:\\Users\\errit\\Anaconda3\\lib\\site-packages\\sklearn\\utils\\validation.py:578: DataConversionWarning: A column-vector y was passed when a 1d array was expected. Please change the shape of y to (n_samples, ), for example using ravel().\n",
      "  y = column_or_1d(y, warn=True)\n",
      "C:\\Users\\errit\\Anaconda3\\lib\\site-packages\\sklearn\\utils\\validation.py:578: DataConversionWarning: A column-vector y was passed when a 1d array was expected. Please change the shape of y to (n_samples, ), for example using ravel().\n",
      "  y = column_or_1d(y, warn=True)\n",
      "C:\\Users\\errit\\Anaconda3\\lib\\site-packages\\sklearn\\utils\\validation.py:578: DataConversionWarning: A column-vector y was passed when a 1d array was expected. Please change the shape of y to (n_samples, ), for example using ravel().\n",
      "  y = column_or_1d(y, warn=True)\n",
      "C:\\Users\\errit\\Anaconda3\\lib\\site-packages\\sklearn\\utils\\validation.py:578: DataConversionWarning: A column-vector y was passed when a 1d array was expected. Please change the shape of y to (n_samples, ), for example using ravel().\n",
      "  y = column_or_1d(y, warn=True)\n"
     ]
    }
   ],
   "source": [
    "cv = cross_val_score(l1_lr_model,X_train_std,y_train,cv=10)"
   ]
  },
  {
   "cell_type": "code",
   "execution_count": 36,
   "metadata": {},
   "outputs": [
    {
     "data": {
      "text/plain": [
       "array([0.78842315, 0.812     , 0.778     , 0.824     , 0.77      ,\n",
       "       0.818     , 0.826     , 0.786     , 0.786     , 0.79158317])"
      ]
     },
     "execution_count": 36,
     "metadata": {},
     "output_type": "execute_result"
    }
   ],
   "source": [
    "cv"
   ]
  },
  {
   "cell_type": "code",
   "execution_count": 37,
   "metadata": {},
   "outputs": [
    {
     "data": {
      "text/plain": [
       "0.7980006320025279"
      ]
     },
     "execution_count": 37,
     "metadata": {},
     "output_type": "execute_result"
    }
   ],
   "source": [
    "cv.mean()"
   ]
  },
  {
   "cell_type": "markdown",
   "metadata": {},
   "source": [
    "###### Using Gradient Descent to minimize the loss function\n",
    "###### Class weight as there is a class imbalance\n",
    "###### Cross Validation to select the value of regularization hyperparameter"
   ]
  },
  {
   "cell_type": "code",
   "execution_count": 38,
   "metadata": {},
   "outputs": [
    {
     "name": "stderr",
     "output_type": "stream",
     "text": [
      "C:\\Users\\errit\\Anaconda3\\lib\\site-packages\\sklearn\\linear_model\\stochastic_gradient.py:128: FutureWarning: max_iter and tol parameters have been added in <class 'sklearn.linear_model.stochastic_gradient.SGDClassifier'> in 0.19. If both are left unset, they default to max_iter=5 and tol=None. If tol is not None, max_iter defaults to max_iter=1000. From 0.21, default max_iter will be 1000, and default tol will be 1e-3.\n",
      "  \"and default tol will be 1e-3.\" % type(self), FutureWarning)\n",
      "C:\\Users\\errit\\Anaconda3\\lib\\site-packages\\sklearn\\utils\\validation.py:578: DataConversionWarning: A column-vector y was passed when a 1d array was expected. Please change the shape of y to (n_samples, ), for example using ravel().\n",
      "  y = column_or_1d(y, warn=True)\n"
     ]
    }
   ],
   "source": [
    "sgd_classifier = SGDClassifier(loss = 'log',penalty='l2',alpha=.001,class_weight='balanced')\n",
    "sgd_model = sgd_classifier.fit(X_train_std,y_train)"
   ]
  },
  {
   "cell_type": "code",
   "execution_count": 39,
   "metadata": {},
   "outputs": [],
   "source": [
    "sgd_pred = sgd_model.predict(X_train_std)"
   ]
  },
  {
   "cell_type": "code",
   "execution_count": 40,
   "metadata": {},
   "outputs": [
    {
     "data": {
      "text/plain": [
       "array([0, 0, 1, ..., 1, 0, 1], dtype=int64)"
      ]
     },
     "execution_count": 40,
     "metadata": {},
     "output_type": "execute_result"
    }
   ],
   "source": [
    "sgd_pred"
   ]
  },
  {
   "cell_type": "code",
   "execution_count": 41,
   "metadata": {},
   "outputs": [
    {
     "data": {
      "text/plain": [
       "array([[3385, 1154],\n",
       "       [  99,  362]], dtype=int64)"
      ]
     },
     "execution_count": 41,
     "metadata": {},
     "output_type": "execute_result"
    }
   ],
   "source": [
    "confusion_matrix(y_train,sgd_pred)"
   ]
  },
  {
   "cell_type": "code",
   "execution_count": 42,
   "metadata": {},
   "outputs": [
    {
     "data": {
      "text/plain": [
       "0.7494"
      ]
     },
     "execution_count": 42,
     "metadata": {},
     "output_type": "execute_result"
    }
   ],
   "source": [
    "accuracy_score(y_train,sgd_pred)"
   ]
  },
  {
   "cell_type": "code",
   "execution_count": 43,
   "metadata": {},
   "outputs": [
    {
     "name": "stdout",
     "output_type": "stream",
     "text": [
      "             precision    recall  f1-score   support\n",
      "\n",
      "          0       0.97      0.75      0.84      4539\n",
      "          1       0.24      0.79      0.37       461\n",
      "\n",
      "avg / total       0.90      0.75      0.80      5000\n",
      "\n"
     ]
    }
   ],
   "source": [
    "print(classification_report(y_train,sgd_pred))"
   ]
  },
  {
   "cell_type": "code",
   "execution_count": 54,
   "metadata": {},
   "outputs": [
    {
     "name": "stderr",
     "output_type": "stream",
     "text": [
      "C:\\Users\\errit\\Anaconda3\\lib\\site-packages\\sklearn\\linear_model\\stochastic_gradient.py:128: FutureWarning: max_iter and tol parameters have been added in <class 'sklearn.linear_model.stochastic_gradient.SGDClassifier'> in 0.19. If both are left unset, they default to max_iter=5 and tol=None. If tol is not None, max_iter defaults to max_iter=1000. From 0.21, default max_iter will be 1000, and default tol will be 1e-3.\n",
      "  \"and default tol will be 1e-3.\" % type(self), FutureWarning)\n",
      "C:\\Users\\errit\\Anaconda3\\lib\\site-packages\\sklearn\\utils\\validation.py:578: DataConversionWarning: A column-vector y was passed when a 1d array was expected. Please change the shape of y to (n_samples, ), for example using ravel().\n",
      "  y = column_or_1d(y, warn=True)\n",
      "C:\\Users\\errit\\Anaconda3\\lib\\site-packages\\sklearn\\linear_model\\stochastic_gradient.py:128: FutureWarning: max_iter and tol parameters have been added in <class 'sklearn.linear_model.stochastic_gradient.SGDClassifier'> in 0.19. If both are left unset, they default to max_iter=5 and tol=None. If tol is not None, max_iter defaults to max_iter=1000. From 0.21, default max_iter will be 1000, and default tol will be 1e-3.\n",
      "  \"and default tol will be 1e-3.\" % type(self), FutureWarning)\n",
      "C:\\Users\\errit\\Anaconda3\\lib\\site-packages\\sklearn\\utils\\validation.py:578: DataConversionWarning: A column-vector y was passed when a 1d array was expected. Please change the shape of y to (n_samples, ), for example using ravel().\n",
      "  y = column_or_1d(y, warn=True)\n",
      "C:\\Users\\errit\\Anaconda3\\lib\\site-packages\\sklearn\\linear_model\\stochastic_gradient.py:128: FutureWarning: max_iter and tol parameters have been added in <class 'sklearn.linear_model.stochastic_gradient.SGDClassifier'> in 0.19. If both are left unset, they default to max_iter=5 and tol=None. If tol is not None, max_iter defaults to max_iter=1000. From 0.21, default max_iter will be 1000, and default tol will be 1e-3.\n",
      "  \"and default tol will be 1e-3.\" % type(self), FutureWarning)\n",
      "C:\\Users\\errit\\Anaconda3\\lib\\site-packages\\sklearn\\utils\\validation.py:578: DataConversionWarning: A column-vector y was passed when a 1d array was expected. Please change the shape of y to (n_samples, ), for example using ravel().\n",
      "  y = column_or_1d(y, warn=True)\n",
      "C:\\Users\\errit\\Anaconda3\\lib\\site-packages\\sklearn\\linear_model\\stochastic_gradient.py:128: FutureWarning: max_iter and tol parameters have been added in <class 'sklearn.linear_model.stochastic_gradient.SGDClassifier'> in 0.19. If both are left unset, they default to max_iter=5 and tol=None. If tol is not None, max_iter defaults to max_iter=1000. From 0.21, default max_iter will be 1000, and default tol will be 1e-3.\n",
      "  \"and default tol will be 1e-3.\" % type(self), FutureWarning)\n",
      "C:\\Users\\errit\\Anaconda3\\lib\\site-packages\\sklearn\\utils\\validation.py:578: DataConversionWarning: A column-vector y was passed when a 1d array was expected. Please change the shape of y to (n_samples, ), for example using ravel().\n",
      "  y = column_or_1d(y, warn=True)\n",
      "C:\\Users\\errit\\Anaconda3\\lib\\site-packages\\sklearn\\linear_model\\stochastic_gradient.py:128: FutureWarning: max_iter and tol parameters have been added in <class 'sklearn.linear_model.stochastic_gradient.SGDClassifier'> in 0.19. If both are left unset, they default to max_iter=5 and tol=None. If tol is not None, max_iter defaults to max_iter=1000. From 0.21, default max_iter will be 1000, and default tol will be 1e-3.\n",
      "  \"and default tol will be 1e-3.\" % type(self), FutureWarning)\n",
      "C:\\Users\\errit\\Anaconda3\\lib\\site-packages\\sklearn\\utils\\validation.py:578: DataConversionWarning: A column-vector y was passed when a 1d array was expected. Please change the shape of y to (n_samples, ), for example using ravel().\n",
      "  y = column_or_1d(y, warn=True)\n",
      "C:\\Users\\errit\\Anaconda3\\lib\\site-packages\\sklearn\\linear_model\\stochastic_gradient.py:128: FutureWarning: max_iter and tol parameters have been added in <class 'sklearn.linear_model.stochastic_gradient.SGDClassifier'> in 0.19. If both are left unset, they default to max_iter=5 and tol=None. If tol is not None, max_iter defaults to max_iter=1000. From 0.21, default max_iter will be 1000, and default tol will be 1e-3.\n",
      "  \"and default tol will be 1e-3.\" % type(self), FutureWarning)\n",
      "C:\\Users\\errit\\Anaconda3\\lib\\site-packages\\sklearn\\utils\\validation.py:578: DataConversionWarning: A column-vector y was passed when a 1d array was expected. Please change the shape of y to (n_samples, ), for example using ravel().\n",
      "  y = column_or_1d(y, warn=True)\n",
      "C:\\Users\\errit\\Anaconda3\\lib\\site-packages\\sklearn\\linear_model\\stochastic_gradient.py:128: FutureWarning: max_iter and tol parameters have been added in <class 'sklearn.linear_model.stochastic_gradient.SGDClassifier'> in 0.19. If both are left unset, they default to max_iter=5 and tol=None. If tol is not None, max_iter defaults to max_iter=1000. From 0.21, default max_iter will be 1000, and default tol will be 1e-3.\n",
      "  \"and default tol will be 1e-3.\" % type(self), FutureWarning)\n",
      "C:\\Users\\errit\\Anaconda3\\lib\\site-packages\\sklearn\\utils\\validation.py:578: DataConversionWarning: A column-vector y was passed when a 1d array was expected. Please change the shape of y to (n_samples, ), for example using ravel().\n",
      "  y = column_or_1d(y, warn=True)\n",
      "C:\\Users\\errit\\Anaconda3\\lib\\site-packages\\sklearn\\linear_model\\stochastic_gradient.py:128: FutureWarning: max_iter and tol parameters have been added in <class 'sklearn.linear_model.stochastic_gradient.SGDClassifier'> in 0.19. If both are left unset, they default to max_iter=5 and tol=None. If tol is not None, max_iter defaults to max_iter=1000. From 0.21, default max_iter will be 1000, and default tol will be 1e-3.\n",
      "  \"and default tol will be 1e-3.\" % type(self), FutureWarning)\n",
      "C:\\Users\\errit\\Anaconda3\\lib\\site-packages\\sklearn\\utils\\validation.py:578: DataConversionWarning: A column-vector y was passed when a 1d array was expected. Please change the shape of y to (n_samples, ), for example using ravel().\n",
      "  y = column_or_1d(y, warn=True)\n",
      "C:\\Users\\errit\\Anaconda3\\lib\\site-packages\\sklearn\\linear_model\\stochastic_gradient.py:128: FutureWarning: max_iter and tol parameters have been added in <class 'sklearn.linear_model.stochastic_gradient.SGDClassifier'> in 0.19. If both are left unset, they default to max_iter=5 and tol=None. If tol is not None, max_iter defaults to max_iter=1000. From 0.21, default max_iter will be 1000, and default tol will be 1e-3.\n",
      "  \"and default tol will be 1e-3.\" % type(self), FutureWarning)\n",
      "C:\\Users\\errit\\Anaconda3\\lib\\site-packages\\sklearn\\utils\\validation.py:578: DataConversionWarning: A column-vector y was passed when a 1d array was expected. Please change the shape of y to (n_samples, ), for example using ravel().\n",
      "  y = column_or_1d(y, warn=True)\n",
      "C:\\Users\\errit\\Anaconda3\\lib\\site-packages\\sklearn\\linear_model\\stochastic_gradient.py:128: FutureWarning: max_iter and tol parameters have been added in <class 'sklearn.linear_model.stochastic_gradient.SGDClassifier'> in 0.19. If both are left unset, they default to max_iter=5 and tol=None. If tol is not None, max_iter defaults to max_iter=1000. From 0.21, default max_iter will be 1000, and default tol will be 1e-3.\n",
      "  \"and default tol will be 1e-3.\" % type(self), FutureWarning)\n",
      "C:\\Users\\errit\\Anaconda3\\lib\\site-packages\\sklearn\\utils\\validation.py:578: DataConversionWarning: A column-vector y was passed when a 1d array was expected. Please change the shape of y to (n_samples, ), for example using ravel().\n",
      "  y = column_or_1d(y, warn=True)\n"
     ]
    }
   ],
   "source": [
    "cv = cross_val_score(sgd_model,X_train_std,y_train,cv=10)"
   ]
  },
  {
   "cell_type": "code",
   "execution_count": 55,
   "metadata": {},
   "outputs": [
    {
     "data": {
      "text/plain": [
       "0.7575977975911904"
      ]
     },
     "execution_count": 55,
     "metadata": {},
     "output_type": "execute_result"
    }
   ],
   "source": [
    "cv.mean()"
   ]
  },
  {
   "cell_type": "markdown",
   "metadata": {},
   "source": [
    "#### DECISION TREES"
   ]
  },
  {
   "cell_type": "code",
   "execution_count": 56,
   "metadata": {},
   "outputs": [],
   "source": [
    "dt_classifier = DecisionTreeClassifier(max_depth=8,class_weight='balanced')\n",
    "dt_model = dt_classifier.fit(x_train,y_train)"
   ]
  },
  {
   "cell_type": "code",
   "execution_count": 57,
   "metadata": {},
   "outputs": [],
   "source": [
    "dt_pred = dt_model.predict(x_train)"
   ]
  },
  {
   "cell_type": "code",
   "execution_count": 58,
   "metadata": {},
   "outputs": [
    {
     "data": {
      "text/plain": [
       "array([[3756,  783],\n",
       "       [  98,  363]], dtype=int64)"
      ]
     },
     "execution_count": 58,
     "metadata": {},
     "output_type": "execute_result"
    }
   ],
   "source": [
    "confusion_matrix(y_train,dt_pred)"
   ]
  },
  {
   "cell_type": "code",
   "execution_count": 59,
   "metadata": {},
   "outputs": [
    {
     "data": {
      "text/plain": [
       "0.8238"
      ]
     },
     "execution_count": 59,
     "metadata": {},
     "output_type": "execute_result"
    }
   ],
   "source": [
    "accuracy_score(y_train,dt_pred)"
   ]
  },
  {
   "cell_type": "code",
   "execution_count": 60,
   "metadata": {},
   "outputs": [
    {
     "name": "stdout",
     "output_type": "stream",
     "text": [
      "             precision    recall  f1-score   support\n",
      "\n",
      "          0       0.97      0.83      0.90      4539\n",
      "          1       0.32      0.79      0.45       461\n",
      "\n",
      "avg / total       0.91      0.82      0.85      5000\n",
      "\n"
     ]
    }
   ],
   "source": [
    "print(classification_report(y_train,dt_pred))"
   ]
  },
  {
   "cell_type": "code",
   "execution_count": 61,
   "metadata": {},
   "outputs": [],
   "source": [
    "cv = cross_val_score(dt_model,x_train,y_train,cv=10)"
   ]
  },
  {
   "cell_type": "code",
   "execution_count": 51,
   "metadata": {},
   "outputs": [
    {
     "data": {
      "text/plain": [
       "array([0.73253493, 0.718     , 0.75      , 0.658     , 0.708     ,\n",
       "       0.694     , 0.794     , 0.668     , 0.66      , 0.70140281])"
      ]
     },
     "execution_count": 51,
     "metadata": {},
     "output_type": "execute_result"
    }
   ],
   "source": [
    "cv"
   ]
  },
  {
   "cell_type": "code",
   "execution_count": 52,
   "metadata": {},
   "outputs": [
    {
     "data": {
      "text/plain": [
       "0.7083937735750944"
      ]
     },
     "execution_count": 52,
     "metadata": {},
     "output_type": "execute_result"
    }
   ],
   "source": [
    "cv.mean()"
   ]
  },
  {
   "cell_type": "code",
   "execution_count": 53,
   "metadata": {},
   "outputs": [
    {
     "ename": "ModuleNotFoundError",
     "evalue": "No module named 'graphviz'",
     "output_type": "error",
     "traceback": [
      "\u001b[1;31m---------------------------------------------------------------------------\u001b[0m",
      "\u001b[1;31mModuleNotFoundError\u001b[0m                       Traceback (most recent call last)",
      "\u001b[1;32m<ipython-input-53-190c3406a185>\u001b[0m in \u001b[0;36m<module>\u001b[1;34m()\u001b[0m\n\u001b[1;32m----> 1\u001b[1;33m \u001b[1;32mimport\u001b[0m \u001b[0mgraphviz\u001b[0m\u001b[1;33m\u001b[0m\u001b[0m\n\u001b[0m\u001b[0;32m      2\u001b[0m \u001b[1;32mfrom\u001b[0m \u001b[0msklearn\u001b[0m \u001b[1;32mimport\u001b[0m \u001b[0mtree\u001b[0m\u001b[1;33m\u001b[0m\u001b[0m\n\u001b[0;32m      3\u001b[0m dot_data = tree.export_graphviz(dt_model, out_file=None, \n\u001b[0;32m      4\u001b[0m                       \u001b[0mfilled\u001b[0m\u001b[1;33m=\u001b[0m\u001b[1;32mTrue\u001b[0m\u001b[1;33m,\u001b[0m \u001b[0mrounded\u001b[0m\u001b[1;33m=\u001b[0m\u001b[1;32mTrue\u001b[0m\u001b[1;33m,\u001b[0m\u001b[1;33m\u001b[0m\u001b[0m\n\u001b[0;32m      5\u001b[0m                       special_characters=True)  \n",
      "\u001b[1;31mModuleNotFoundError\u001b[0m: No module named 'graphviz'"
     ]
    }
   ],
   "source": [
    "import graphviz \n",
    "from sklearn import tree\n",
    "dot_data = tree.export_graphviz(dt_model, out_file=None, \n",
    "                      filled=True, rounded=True,  \n",
    "                      special_characters=True)  \n",
    "\n",
    "graph = graphviz.Source(dot_data) \n",
    "graph.render(\"dt_santander\")"
   ]
  },
  {
   "cell_type": "code",
   "execution_count": null,
   "metadata": {},
   "outputs": [],
   "source": [
    "graph"
   ]
  },
  {
   "cell_type": "code",
   "execution_count": 62,
   "metadata": {},
   "outputs": [
    {
     "name": "stderr",
     "output_type": "stream",
     "text": [
      "C:\\Users\\errit\\Anaconda3\\lib\\site-packages\\sklearn\\utils\\validation.py:578: DataConversionWarning: A column-vector y was passed when a 1d array was expected. Please change the shape of y to (n_samples, ), for example using ravel().\n",
      "  y = column_or_1d(y, warn=True)\n"
     ]
    }
   ],
   "source": [
    "# BAGGING\n",
    "\n",
    "bg_classifier = BaggingClassifier()\n",
    "bg_model = bg_classifier.fit(x_train,y_train)\n",
    "\n"
   ]
  },
  {
   "cell_type": "code",
   "execution_count": 63,
   "metadata": {},
   "outputs": [],
   "source": [
    "bg_pred = bg_model.predict(x_train)"
   ]
  },
  {
   "cell_type": "code",
   "execution_count": 64,
   "metadata": {},
   "outputs": [
    {
     "data": {
      "text/plain": [
       "0.9862"
      ]
     },
     "execution_count": 64,
     "metadata": {},
     "output_type": "execute_result"
    }
   ],
   "source": [
    "accuracy_score(y_train,bg_pred)"
   ]
  },
  {
   "cell_type": "code",
   "execution_count": 65,
   "metadata": {},
   "outputs": [
    {
     "data": {
      "text/plain": [
       "array([[4539,    0],\n",
       "       [  69,  392]], dtype=int64)"
      ]
     },
     "execution_count": 65,
     "metadata": {},
     "output_type": "execute_result"
    }
   ],
   "source": [
    "confusion_matrix(y_train,bg_pred)"
   ]
  },
  {
   "cell_type": "code",
   "execution_count": 66,
   "metadata": {},
   "outputs": [
    {
     "name": "stdout",
     "output_type": "stream",
     "text": [
      "             precision    recall  f1-score   support\n",
      "\n",
      "          0       0.99      1.00      0.99      4539\n",
      "          1       1.00      0.85      0.92       461\n",
      "\n",
      "avg / total       0.99      0.99      0.99      5000\n",
      "\n"
     ]
    }
   ],
   "source": [
    "print(classification_report(y_train,bg_pred))"
   ]
  },
  {
   "cell_type": "code",
   "execution_count": 67,
   "metadata": {},
   "outputs": [
    {
     "name": "stderr",
     "output_type": "stream",
     "text": [
      "C:\\Users\\errit\\Anaconda3\\lib\\site-packages\\sklearn\\utils\\validation.py:578: DataConversionWarning: A column-vector y was passed when a 1d array was expected. Please change the shape of y to (n_samples, ), for example using ravel().\n",
      "  y = column_or_1d(y, warn=True)\n",
      "C:\\Users\\errit\\Anaconda3\\lib\\site-packages\\sklearn\\utils\\validation.py:578: DataConversionWarning: A column-vector y was passed when a 1d array was expected. Please change the shape of y to (n_samples, ), for example using ravel().\n",
      "  y = column_or_1d(y, warn=True)\n",
      "C:\\Users\\errit\\Anaconda3\\lib\\site-packages\\sklearn\\utils\\validation.py:578: DataConversionWarning: A column-vector y was passed when a 1d array was expected. Please change the shape of y to (n_samples, ), for example using ravel().\n",
      "  y = column_or_1d(y, warn=True)\n",
      "C:\\Users\\errit\\Anaconda3\\lib\\site-packages\\sklearn\\utils\\validation.py:578: DataConversionWarning: A column-vector y was passed when a 1d array was expected. Please change the shape of y to (n_samples, ), for example using ravel().\n",
      "  y = column_or_1d(y, warn=True)\n",
      "C:\\Users\\errit\\Anaconda3\\lib\\site-packages\\sklearn\\utils\\validation.py:578: DataConversionWarning: A column-vector y was passed when a 1d array was expected. Please change the shape of y to (n_samples, ), for example using ravel().\n",
      "  y = column_or_1d(y, warn=True)\n",
      "C:\\Users\\errit\\Anaconda3\\lib\\site-packages\\sklearn\\utils\\validation.py:578: DataConversionWarning: A column-vector y was passed when a 1d array was expected. Please change the shape of y to (n_samples, ), for example using ravel().\n",
      "  y = column_or_1d(y, warn=True)\n",
      "C:\\Users\\errit\\Anaconda3\\lib\\site-packages\\sklearn\\utils\\validation.py:578: DataConversionWarning: A column-vector y was passed when a 1d array was expected. Please change the shape of y to (n_samples, ), for example using ravel().\n",
      "  y = column_or_1d(y, warn=True)\n",
      "C:\\Users\\errit\\Anaconda3\\lib\\site-packages\\sklearn\\utils\\validation.py:578: DataConversionWarning: A column-vector y was passed when a 1d array was expected. Please change the shape of y to (n_samples, ), for example using ravel().\n",
      "  y = column_or_1d(y, warn=True)\n",
      "C:\\Users\\errit\\Anaconda3\\lib\\site-packages\\sklearn\\utils\\validation.py:578: DataConversionWarning: A column-vector y was passed when a 1d array was expected. Please change the shape of y to (n_samples, ), for example using ravel().\n",
      "  y = column_or_1d(y, warn=True)\n",
      "C:\\Users\\errit\\Anaconda3\\lib\\site-packages\\sklearn\\utils\\validation.py:578: DataConversionWarning: A column-vector y was passed when a 1d array was expected. Please change the shape of y to (n_samples, ), for example using ravel().\n",
      "  y = column_or_1d(y, warn=True)\n"
     ]
    }
   ],
   "source": [
    "cv = cross_val_score(bg_model,x_train,y_train,cv=10)"
   ]
  },
  {
   "cell_type": "code",
   "execution_count": 68,
   "metadata": {},
   "outputs": [
    {
     "data": {
      "text/plain": [
       "0.9083999247996992"
      ]
     },
     "execution_count": 68,
     "metadata": {},
     "output_type": "execute_result"
    }
   ],
   "source": [
    "cv.mean()"
   ]
  },
  {
   "cell_type": "markdown",
   "metadata": {},
   "source": [
    "###### Random Forest"
   ]
  },
  {
   "cell_type": "code",
   "execution_count": null,
   "metadata": {},
   "outputs": [],
   "source": [
    "rf_classifier = RandomForestClassifier(n_estimators=100,max_depth=5,class_weight='balanced')\n",
    "rf_model = rf_classifier.fit(x_train,y_train)"
   ]
  },
  {
   "cell_type": "code",
   "execution_count": null,
   "metadata": {},
   "outputs": [],
   "source": [
    "rf_pred = rf_model.predict(x_train)"
   ]
  },
  {
   "cell_type": "code",
   "execution_count": null,
   "metadata": {},
   "outputs": [],
   "source": [
    "accuracy_score(y_train,rf_pred)"
   ]
  },
  {
   "cell_type": "code",
   "execution_count": null,
   "metadata": {},
   "outputs": [],
   "source": [
    "confusion_matrix(y_train,rf_pred)"
   ]
  },
  {
   "cell_type": "code",
   "execution_count": null,
   "metadata": {},
   "outputs": [],
   "source": [
    "print(classification_report(y_train,rf_pred))"
   ]
  },
  {
   "cell_type": "code",
   "execution_count": null,
   "metadata": {},
   "outputs": [],
   "source": [
    "cv = cross_val_score(rf_model,x_train,y_train,cv=10)"
   ]
  },
  {
   "cell_type": "code",
   "execution_count": null,
   "metadata": {},
   "outputs": [],
   "source": [
    "cv.mean()"
   ]
  },
  {
   "cell_type": "markdown",
   "metadata": {},
   "source": [
    "###### Boosting"
   ]
  },
  {
   "cell_type": "code",
   "execution_count": null,
   "metadata": {},
   "outputs": [],
   "source": [
    "# XGBOOST\n",
    "! pip install xgboost\n"
   ]
  },
  {
   "cell_type": "code",
   "execution_count": null,
   "metadata": {},
   "outputs": [],
   "source": [
    "! pip install --upgrade xgboost"
   ]
  },
  {
   "cell_type": "code",
   "execution_count": null,
   "metadata": {},
   "outputs": [],
   "source": [
    "ratio = y_train.target.value_counts(normalize=True)[0]\n",
    "ratio\n",
    "xgb_classifier = XGBClassifier(scale_pos_weight=ratio, n_estimators=300)\n",
    "xgb_model = xgb_classifier.fit(x_train,y_train)"
   ]
  },
  {
   "cell_type": "code",
   "execution_count": null,
   "metadata": {},
   "outputs": [],
   "source": [
    "xgb_pred = xgb_model.predict(x_train)"
   ]
  },
  {
   "cell_type": "code",
   "execution_count": null,
   "metadata": {},
   "outputs": [],
   "source": [
    "confusion_matrix(y_train,xgb_pred)"
   ]
  },
  {
   "cell_type": "code",
   "execution_count": null,
   "metadata": {},
   "outputs": [],
   "source": [
    "accuracy_score(y_train,xgb_pred)"
   ]
  },
  {
   "cell_type": "code",
   "execution_count": null,
   "metadata": {},
   "outputs": [],
   "source": [
    "print(classification_report(y_train,xgb_pred))"
   ]
  },
  {
   "cell_type": "code",
   "execution_count": null,
   "metadata": {},
   "outputs": [],
   "source": [
    "cv = cross_val_score(xgb_model,x_train,y_train,cv =10)"
   ]
  },
  {
   "cell_type": "code",
   "execution_count": null,
   "metadata": {},
   "outputs": [],
   "source": [
    "cv.mean()"
   ]
  },
  {
   "cell_type": "code",
   "execution_count": null,
   "metadata": {},
   "outputs": [],
   "source": [
    "# Gradient Boosting Method\n",
    "\n",
    "gbm_classifier = GradientBoostingClassifier(n_estimators=200)\n",
    "gbm_model = gbm_classifier.fit(x_train,y_train)\n"
   ]
  },
  {
   "cell_type": "code",
   "execution_count": null,
   "metadata": {},
   "outputs": [],
   "source": [
    "gbm_pred = gbm_model.predict(x_train)"
   ]
  },
  {
   "cell_type": "code",
   "execution_count": null,
   "metadata": {},
   "outputs": [],
   "source": [
    "confusion_matrix(y_train,gbm_pred)"
   ]
  },
  {
   "cell_type": "code",
   "execution_count": null,
   "metadata": {},
   "outputs": [],
   "source": [
    "accuracy_score(y_train,gbm_pred)"
   ]
  },
  {
   "cell_type": "code",
   "execution_count": null,
   "metadata": {},
   "outputs": [],
   "source": [
    "print(classification_report(y_train,gbm_pred))"
   ]
  },
  {
   "cell_type": "code",
   "execution_count": null,
   "metadata": {},
   "outputs": [],
   "source": [
    "cv = cross_val_score(gbm_model,x_train,y_train,cv =10)"
   ]
  },
  {
   "cell_type": "code",
   "execution_count": null,
   "metadata": {},
   "outputs": [],
   "source": [
    "cv.mean()"
   ]
  },
  {
   "cell_type": "code",
   "execution_count": null,
   "metadata": {},
   "outputs": [],
   "source": [
    "imp_feats = gbm_model.feature_importances_\n",
    "imp_feats = pd.Series(imp_feats)\n",
    "#imp_feats.append(df.columns[2:])\n",
    "#df.columns[2:]\n",
    "var_imp = {'colnames': df.columns[2:],'relative_importance': imp_feats}\n",
    "var_imp = pd.DataFrame(var_imp)\n",
    "#pd.DataFrame([(df.columns[2:]),imp_feats],columns=['colnames','relative_importance'])\n",
    "var_imp = var_imp.sort_values(by= 'relative_importance' ,ascending=False).head(50)\n"
   ]
  },
  {
   "cell_type": "code",
   "execution_count": null,
   "metadata": {},
   "outputs": [],
   "source": [
    "#plt.figure(figsize=(50,50))\n",
    "#sns.barplot(y = 'colnames',x='relative_importance',data=var_imp)\n",
    "#plt.xscale('linear')\n",
    "sns.factorplot(x='relative_importance', y='colnames', size=20,aspect=.6,kind='bar', data=var_imp)\n",
    "\n"
   ]
  },
  {
   "cell_type": "code",
   "execution_count": null,
   "metadata": {},
   "outputs": [],
   "source": [
    "# ADABOOST Classifier\n",
    "\n",
    "ada_classifier = AdaBoostClassifier(n_estimators = 100)\n",
    "ada_model = ada_classifier.fit(x_train,y_train)\n"
   ]
  },
  {
   "cell_type": "code",
   "execution_count": null,
   "metadata": {},
   "outputs": [],
   "source": [
    "ada_pred = ada_model.predict(x_train)"
   ]
  },
  {
   "cell_type": "code",
   "execution_count": null,
   "metadata": {},
   "outputs": [],
   "source": [
    "confusion_matrix(y_train,ada_pred)"
   ]
  },
  {
   "cell_type": "code",
   "execution_count": null,
   "metadata": {},
   "outputs": [],
   "source": [
    "accuracy_score(y_train,ada_pred)"
   ]
  },
  {
   "cell_type": "code",
   "execution_count": null,
   "metadata": {},
   "outputs": [],
   "source": [
    "print(classification_report(y_train,ada_pred))"
   ]
  },
  {
   "cell_type": "code",
   "execution_count": null,
   "metadata": {},
   "outputs": [],
   "source": [
    "cv = cross_val_score(ada_model,x_train,y_train,cv =10)"
   ]
  },
  {
   "cell_type": "code",
   "execution_count": null,
   "metadata": {},
   "outputs": [],
   "source": [
    "cv.mean()"
   ]
  },
  {
   "cell_type": "code",
   "execution_count": null,
   "metadata": {},
   "outputs": [],
   "source": [
    "# Try LGBM with original dataset which should be used with large datasets only as it is sensitive to overfitting the smaller dataset "
   ]
  },
  {
   "cell_type": "markdown",
   "metadata": {},
   "source": [
    "###### K NEAREST NEIGHBOUR"
   ]
  },
  {
   "cell_type": "code",
   "execution_count": 88,
   "metadata": {},
   "outputs": [
    {
     "name": "stderr",
     "output_type": "stream",
     "text": [
      "C:\\Users\\errit\\Anaconda3\\lib\\site-packages\\ipykernel_launcher.py:2: DataConversionWarning: A column-vector y was passed when a 1d array was expected. Please change the shape of y to (n_samples, ), for example using ravel().\n",
      "  \n"
     ]
    }
   ],
   "source": [
    "knn_classifier = KNeighborsClassifier(n_neighbors=3)\n",
    "knn_model = knn_classifier.fit(x_train,y_train)"
   ]
  },
  {
   "cell_type": "code",
   "execution_count": 89,
   "metadata": {},
   "outputs": [],
   "source": [
    "knn_pred = knn_model.predict(x_train)"
   ]
  },
  {
   "cell_type": "code",
   "execution_count": 90,
   "metadata": {},
   "outputs": [
    {
     "data": {
      "text/plain": [
       "array([[4532,    7],\n",
       "       [ 392,   69]], dtype=int64)"
      ]
     },
     "execution_count": 90,
     "metadata": {},
     "output_type": "execute_result"
    }
   ],
   "source": [
    "confusion_matrix(y_train,knn_pred)"
   ]
  },
  {
   "cell_type": "code",
   "execution_count": 91,
   "metadata": {},
   "outputs": [
    {
     "data": {
      "text/plain": [
       "0.9202"
      ]
     },
     "execution_count": 91,
     "metadata": {},
     "output_type": "execute_result"
    }
   ],
   "source": [
    "accuracy_score(y_train,knn_pred)"
   ]
  },
  {
   "cell_type": "code",
   "execution_count": 92,
   "metadata": {},
   "outputs": [
    {
     "name": "stdout",
     "output_type": "stream",
     "text": [
      "             precision    recall  f1-score   support\n",
      "\n",
      "          0       0.92      1.00      0.96      4539\n",
      "          1       0.91      0.15      0.26       461\n",
      "\n",
      "avg / total       0.92      0.92      0.89      5000\n",
      "\n"
     ]
    }
   ],
   "source": [
    "print(classification_report(y_train,knn_pred))"
   ]
  },
  {
   "cell_type": "code",
   "execution_count": 81,
   "metadata": {},
   "outputs": [
    {
     "name": "stderr",
     "output_type": "stream",
     "text": [
      "C:\\Users\\errit\\Anaconda3\\lib\\site-packages\\sklearn\\model_selection\\_validation.py:458: DataConversionWarning: A column-vector y was passed when a 1d array was expected. Please change the shape of y to (n_samples, ), for example using ravel().\n",
      "  estimator.fit(X_train, y_train, **fit_params)\n",
      "C:\\Users\\errit\\Anaconda3\\lib\\site-packages\\sklearn\\model_selection\\_validation.py:458: DataConversionWarning: A column-vector y was passed when a 1d array was expected. Please change the shape of y to (n_samples, ), for example using ravel().\n",
      "  estimator.fit(X_train, y_train, **fit_params)\n",
      "C:\\Users\\errit\\Anaconda3\\lib\\site-packages\\sklearn\\model_selection\\_validation.py:458: DataConversionWarning: A column-vector y was passed when a 1d array was expected. Please change the shape of y to (n_samples, ), for example using ravel().\n",
      "  estimator.fit(X_train, y_train, **fit_params)\n",
      "C:\\Users\\errit\\Anaconda3\\lib\\site-packages\\sklearn\\model_selection\\_validation.py:458: DataConversionWarning: A column-vector y was passed when a 1d array was expected. Please change the shape of y to (n_samples, ), for example using ravel().\n",
      "  estimator.fit(X_train, y_train, **fit_params)\n",
      "C:\\Users\\errit\\Anaconda3\\lib\\site-packages\\sklearn\\model_selection\\_validation.py:458: DataConversionWarning: A column-vector y was passed when a 1d array was expected. Please change the shape of y to (n_samples, ), for example using ravel().\n",
      "  estimator.fit(X_train, y_train, **fit_params)\n",
      "C:\\Users\\errit\\Anaconda3\\lib\\site-packages\\sklearn\\model_selection\\_validation.py:458: DataConversionWarning: A column-vector y was passed when a 1d array was expected. Please change the shape of y to (n_samples, ), for example using ravel().\n",
      "  estimator.fit(X_train, y_train, **fit_params)\n",
      "C:\\Users\\errit\\Anaconda3\\lib\\site-packages\\sklearn\\model_selection\\_validation.py:458: DataConversionWarning: A column-vector y was passed when a 1d array was expected. Please change the shape of y to (n_samples, ), for example using ravel().\n",
      "  estimator.fit(X_train, y_train, **fit_params)\n",
      "C:\\Users\\errit\\Anaconda3\\lib\\site-packages\\sklearn\\model_selection\\_validation.py:458: DataConversionWarning: A column-vector y was passed when a 1d array was expected. Please change the shape of y to (n_samples, ), for example using ravel().\n",
      "  estimator.fit(X_train, y_train, **fit_params)\n",
      "C:\\Users\\errit\\Anaconda3\\lib\\site-packages\\sklearn\\model_selection\\_validation.py:458: DataConversionWarning: A column-vector y was passed when a 1d array was expected. Please change the shape of y to (n_samples, ), for example using ravel().\n",
      "  estimator.fit(X_train, y_train, **fit_params)\n",
      "C:\\Users\\errit\\Anaconda3\\lib\\site-packages\\sklearn\\model_selection\\_validation.py:458: DataConversionWarning: A column-vector y was passed when a 1d array was expected. Please change the shape of y to (n_samples, ), for example using ravel().\n",
      "  estimator.fit(X_train, y_train, **fit_params)\n"
     ]
    }
   ],
   "source": [
    "cv = cross_val_score(knn_model,x_train,y_train,cv =10)"
   ]
  },
  {
   "cell_type": "code",
   "execution_count": 82,
   "metadata": {},
   "outputs": [
    {
     "data": {
      "text/plain": [
       "0.9074007248028991"
      ]
     },
     "execution_count": 82,
     "metadata": {},
     "output_type": "execute_result"
    }
   ],
   "source": [
    "cv.mean()"
   ]
  },
  {
   "cell_type": "code",
   "execution_count": null,
   "metadata": {},
   "outputs": [],
   "source": []
  },
  {
   "cell_type": "code",
   "execution_count": null,
   "metadata": {},
   "outputs": [],
   "source": []
  },
  {
   "cell_type": "code",
   "execution_count": null,
   "metadata": {},
   "outputs": [],
   "source": [
    "folds = StratifiedKFold(n_splits=9, shuffle=True, random_state=31415)\n",
    "oof = np.zeros(len(train_df))\n",
    "predictions = np.zeros(len(test_df))\n",
    "feature_importance_df = pd.DataFrame()\n",
    "\n",
    "for fold_, (trn_idx, val_idx) in enumerate(folds.split(x_train.values, y_train.values)):\n",
    "    print(\"Fold {}\".format(fold_))\n",
    "    trn_data = lgb.Dataset(train_df.iloc[trn_idx][features], label=target.iloc[trn_idx])\n",
    "    val_data = lgb.Dataset(train_df.iloc[val_idx][features], label=target.iloc[val_idx])\n",
    "\n",
    "    num_round = 15000\n",
    "    clf = lgb.train(param, trn_data, num_round, valid_sets = [trn_data, val_data], verbose_eval=1000, early_stopping_rounds = 250)\n",
    "    oof[val_idx] = clf.predict(train_df.iloc[val_idx][features], num_iteration=clf.best_iteration)\n",
    "    \n",
    "    fold_importance_df = pd.DataFrame()\n",
    "    fold_importance_df[\"Feature\"] = features\n",
    "    fold_importance_df[\"importance\"] = clf.feature_importance()\n",
    "    fold_importance_df[\"fold\"] = fold_ + 1\n",
    "    feature_importance_df = pd.concat([feature_importance_df, fold_importance_df], axis=0)\n",
    "    \n",
    "    predictions += clf.predict(test_df[features], num_iteration=clf.best_iteration) / folds.n_splits\n",
    "\n",
    "print(\"CV score: {:<8.5f}\".format(roc_auc_score(target, oof)))"
   ]
  }
 ],
 "metadata": {
  "kernelspec": {
   "display_name": "Python 3",
   "language": "python",
   "name": "python3"
  },
  "language_info": {
   "codemirror_mode": {
    "name": "ipython",
    "version": 3
   },
   "file_extension": ".py",
   "mimetype": "text/x-python",
   "name": "python",
   "nbconvert_exporter": "python",
   "pygments_lexer": "ipython3",
   "version": "3.7.0"
  }
 },
 "nbformat": 4,
 "nbformat_minor": 2
}
